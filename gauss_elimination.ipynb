{
 "cells": [
  {
   "cell_type": "code",
   "execution_count": 1,
   "id": "d5b20760-4656-4e34-9daa-07c41556ae60",
   "metadata": {},
   "outputs": [
    {
     "name": "stdout",
     "output_type": "stream",
     "text": [
      "Solution: [2.0, 3.0, -1.0]\n"
     ]
    }
   ],
   "source": [
    "def gauss_elimination(a, b):\n",
    "    n = len(b)\n",
    "\n",
    "    # Step 1: Augmented matrix বানাই\n",
    "    for i in range(n):\n",
    "        a[i].append(b[i])\n",
    "\n",
    "    # Step 2: Forward Elimination (Upper Triangular Matrix বানানো)\n",
    "    for i in range(n):\n",
    "        if a[i][i] == 0.0:\n",
    "            raise ZeroDivisionError(\"Mathematical Error! (Pivot = 0)\")\n",
    "\n",
    "        for j in range(i+1, n):\n",
    "            ratio = a[j][i] / a[i][i]\n",
    "            for k in range(i, n+1):\n",
    "                a[j][k] -= ratio * a[i][k]\n",
    "\n",
    "    # Step 3: Back Substitution\n",
    "    x = [0 for _ in range(n)]\n",
    "\n",
    "    for i in range(n-1, -1, -1):\n",
    "        x[i] = a[i][n]  # Constant value\n",
    "        for j in range(i+1, n):\n",
    "            x[i] -= a[i][j] * x[j]\n",
    "        x[i] /= a[i][i]\n",
    "\n",
    "    return x\n",
    "\n",
    "\n",
    "# Example usage\n",
    "a = [[2, 1, -1],\n",
    "     [-3, -1, 2],\n",
    "     [-2, 1, 2]]\n",
    "\n",
    "b = [8, -11, -3]\n",
    "\n",
    "solution = gauss_elimination(a, b)\n",
    "print(\"Solution:\", solution)\n"
   ]
  },
  {
   "cell_type": "code",
   "execution_count": null,
   "id": "4f398fcc",
   "metadata": {},
   "outputs": [],
   "source": []
  }
 ],
 "metadata": {
  "kernelspec": {
   "display_name": "Python 3",
   "language": "python",
   "name": "python3"
  },
  "language_info": {
   "codemirror_mode": {
    "name": "ipython",
    "version": 3
   },
   "file_extension": ".py",
   "mimetype": "text/x-python",
   "name": "python",
   "nbconvert_exporter": "python",
   "pygments_lexer": "ipython3",
   "version": "3.10.0"
  }
 },
 "nbformat": 4,
 "nbformat_minor": 5
}

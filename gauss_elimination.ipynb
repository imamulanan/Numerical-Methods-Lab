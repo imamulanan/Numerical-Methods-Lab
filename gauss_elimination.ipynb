{
 "cells": [
  {
   "cell_type": "code",
   "execution_count": null,
   "id": "d5b20760-4656-4e34-9daa-07c41556ae60",
   "metadata": {},
   "outputs": [
    {
     "name": "stdout",
     "output_type": "stream",
     "text": [
      "[1.0, 0.5, -0.5, 4.0]\n",
      "[0.0, 0.5, 0.5, 1.0]\n",
      "[0.0, 2.0, 1.0, 5.0]\n",
      "\n",
      "[1.0, 0.5, -0.5, 4.0]\n",
      "[0.0, 1.0, 1.0, 2.0]\n",
      "[0.0, 0.0, -1.0, 1.0]\n",
      "\n",
      "[1.0, 0.5, -0.5, 4.0]\n",
      "[0.0, 1.0, 1.0, 2.0]\n",
      "[0.0, 0.0, 1.0, -1.0]\n",
      "\n",
      "[2.0, 3.0, -1.0]\n"
     ]
    }
   ],
   "source": [
    "# Gauss Elimination in Python\n",
    "\n",
    "def gauss_elimination(a, b):\n",
    "    n = len(b)\n",
    "\n",
    "    # Forward elimination\n",
    "    for i in range(n):\n",
    "        # Make the diagonal element 1\n",
    "        if a[i][i] == 0.0:\n",
    "            raise ZeroDivisionError(\"Divide by zero detected!\")\n",
    "\n",
    "        for j in range(i+1, n):\n",
    "            ratio = a[j][i] / a[i][i]\n",
    "\n",
    "            for k in range(n):\n",
    "                a[j][k] = a[j][k] - ratio * a[i][k]\n",
    "            b[j] = b[j] - ratio * b[i]\n",
    "\n",
    "    # Back substitution\n",
    "\n",
    "    # x = [0 for _ in range(n)] → ekta list banacche, jekhane shob variable-er value (x, y, z ...) thakbe, shob initial value 0.\n",
    "    x = [0 for _ in range(n)]\n",
    "\n",
    "    # for i in range(n-1, -1, -1): → last row theke first row porjonto ulta dike loop cholbe.\n",
    "    for i in range(n-1, -1, -1):\n",
    "        \n",
    "        # x[i] = b[i] → prothome constant value assign hocche.\n",
    "        x[i] = b[i]\n",
    "\n",
    "        # for j in range(i+1, n): → i-er porer shob variable-er value minus kora hocche (already ber kora value use kore).\n",
    "        for j in range(i+1, n):\n",
    "            x[i] = x[i] - a[i][j] * x[j]\n",
    "\n",
    "            # x[i] = x[i] / a[i][i] → finally, diagonal element diye vag kore x[i] ber kora hocche.\n",
    "        x[i] = x[i] / a[i][i]\n",
    "\n",
    "    return x\n",
    "\n",
    "\n",
    "# Example usage\n",
    "a = [[2, 1, -1],\n",
    "     [-3, -1, 2],\n",
    "     [-2, 1, 2]]\n",
    "\n",
    "b = [8, -11, -3]\n",
    "\n",
    "solution = gauss_elimination(a, b)\n",
    "print(\"Solution:\", solution)\n"
   ]
  }
 ],
 "metadata": {
  "kernelspec": {
   "display_name": "base",
   "language": "python",
   "name": "python3"
  },
  "language_info": {
   "codemirror_mode": {
    "name": "ipython",
    "version": 3
   },
   "file_extension": ".py",
   "mimetype": "text/x-python",
   "name": "python",
   "nbconvert_exporter": "python",
   "pygments_lexer": "ipython3",
   "version": "3.13.5"
  }
 },
 "nbformat": 4,
 "nbformat_minor": 5
}

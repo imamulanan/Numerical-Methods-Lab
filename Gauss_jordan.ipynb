{
 "cells": [
  {
   "cell_type": "code",
   "execution_count": null,
   "id": "b35b8eeb-b751-4c4d-b82c-a0f8c143d728",
   "metadata": {},
   "outputs": [
    {
     "name": "stdout",
     "output_type": "stream",
     "text": [
      "Solution: [ 2.  3. -1.]\n"
     ]
    }
   ],
   "source": [
    "# Gauss-Jordan Elimination in Python\n",
    "\n",
    "def gauss_jordan(a, b):\n",
    "    n = len(b)\n",
    "\n",
    "    # Make augmented matrix\n",
    "    for i in range(n):\n",
    "        a[i].append(b[i])\n",
    "\n",
    "    # Forward elimination + make diagonal 1\n",
    "    for i in range(n):\n",
    "        # Pivot should not be zero\n",
    "        if a[i][i] == 0.0:\n",
    "            raise ZeroDivisionError(\"Divide by zero detected!\")\n",
    "\n",
    "        # Make pivot = 1\n",
    "        pivot = a[i][i]\n",
    "        for j in range(i, n+1):\n",
    "            a[i][j]  /= pivot\n",
    "\n",
    "        # Make other rows' same column = 0\n",
    "        for k in range(n):\n",
    "            if k != i:\n",
    "                factor = a[k][i]\n",
    "                for j in range(i, n+1):\n",
    "                    a[k][j] -= factor * a[i][j]\n",
    "\n",
    "    # Extract solution\n",
    "    x = [a[i][n] for i in range(n)]\n",
    "    return x\n",
    "\n",
    "\n",
    "# Example usage\n",
    "A = [[2, 1, -1],\n",
    "     [-3, -1, 2],\n",
    "     [-2, 1, 2]]\n",
    "\n",
    "b = [8, -11, -3]\n",
    "\n",
    "solution = gauss_jordan(A, b)\n",
    "print(\"Solution:\", solution)\n"
   ]
  },
  {
   "cell_type": "code",
   "execution_count": null,
   "id": "046928b2-dc19-43da-b3d2-aabf4c3798cf",
   "metadata": {},
   "outputs": [],
   "source": []
  }
 ],
 "metadata": {
  "kernelspec": {
   "display_name": "Python 3 (ipykernel)",
   "language": "python",
   "name": "python3"
  },
  "language_info": {
   "codemirror_mode": {
    "name": "ipython",
    "version": 3
   },
   "file_extension": ".py",
   "mimetype": "text/x-python",
   "name": "python",
   "nbconvert_exporter": "python",
   "pygments_lexer": "ipython3",
   "version": "3.13.5"
  }
 },
 "nbformat": 4,
 "nbformat_minor": 5
}
